{
    "cells": [
        {
            "cell_type": "markdown",
            "metadata": {},
            "source": "# My Jupyter Notebook on IBM Watson Studio"
        },
        {
            "cell_type": "markdown",
            "metadata": {},
            "source": "**Yaxuan XUE**   \nData analyst"
        },
        {
            "cell_type": "markdown",
            "metadata": {},
            "source": "*I am interested in Data Science because I find it exciting to build regression models to predict the future.*"
        },
        {
            "cell_type": "markdown",
            "metadata": {},
            "source": "### My code is to display the grades of my friends and sort in a descending order according to their grade"
        },
        {
            "cell_type": "code",
            "execution_count": 13,
            "metadata": {},
            "outputs": [
                {
                    "name": "stdout",
                    "output_type": "stream",
                    "text": "     Name  Grade\n0   Chloe     79\n1  Daniel     97\n2   Tommy     88\n3    Zack     76\n4    Josh     99\n"
                },
                {
                    "data": {
                        "text/html": "<div>\n<style scoped>\n    .dataframe tbody tr th:only-of-type {\n        vertical-align: middle;\n    }\n\n    .dataframe tbody tr th {\n        vertical-align: top;\n    }\n\n    .dataframe thead th {\n        text-align: right;\n    }\n</style>\n<table border=\"1\" class=\"dataframe\">\n  <thead>\n    <tr style=\"text-align: right;\">\n      <th></th>\n      <th>Name</th>\n      <th>Grade</th>\n    </tr>\n  </thead>\n  <tbody>\n    <tr>\n      <th>4</th>\n      <td>Josh</td>\n      <td>99</td>\n    </tr>\n    <tr>\n      <th>1</th>\n      <td>Daniel</td>\n      <td>97</td>\n    </tr>\n    <tr>\n      <th>2</th>\n      <td>Tommy</td>\n      <td>88</td>\n    </tr>\n    <tr>\n      <th>0</th>\n      <td>Chloe</td>\n      <td>79</td>\n    </tr>\n    <tr>\n      <th>3</th>\n      <td>Zack</td>\n      <td>76</td>\n    </tr>\n  </tbody>\n</table>\n</div>",
                        "text/plain": "     Name  Grade\n4    Josh     99\n1  Daniel     97\n2   Tommy     88\n0   Chloe     79\n3    Zack     76"
                    },
                    "execution_count": 13,
                    "metadata": {},
                    "output_type": "execute_result"
                }
            ],
            "source": "import pandas as pd\ngrades = pd.DataFrame({\"Name\":['Chloe','Daniel','Tommy','Zack','Josh'],'Grade':[79,97,88,76,99]})\nprint(grades)\ngrades.sort_values(by = 'Grade', ascending = False)"
        },
        {
            "cell_type": "markdown",
            "metadata": {},
            "source": "1. A\n2. B\n3. C\n\n[Youtube](https://www.youtube.com/)\n\n|Col1   |Col2   |Col3   |\n|-------|:-----:|------:|\n|Red    |Green  |Blue   |\n|Good   |Fair   |Bad    |"
        },
        {
            "cell_type": "code",
            "execution_count": null,
            "metadata": {},
            "outputs": [],
            "source": ""
        }
    ],
    "metadata": {
        "kernelspec": {
            "display_name": "Python 3.6",
            "language": "python",
            "name": "python3"
        },
        "language_info": {
            "codemirror_mode": {
                "name": "ipython",
                "version": 3
            },
            "file_extension": ".py",
            "mimetype": "text/x-python",
            "name": "python",
            "nbconvert_exporter": "python",
            "pygments_lexer": "ipython3",
            "version": "3.6.9"
        }
    },
    "nbformat": 4,
    "nbformat_minor": 1
}